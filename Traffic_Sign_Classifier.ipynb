{
 "cells": [
  {
   "cell_type": "markdown",
   "metadata": {},
   "source": [
    "# Self-Driving Car Engineer Nanodegree\n",
    "\n",
    "## Deep Learning\n",
    "\n",
    "## Project: Build a Traffic Sign Recognition Classifier\n",
    "\n",
    "In this notebook, a template is provided for you to implement your functionality in stages, which is required to successfully complete this project. If additional code is required that cannot be included in the notebook, be sure that the Python code is successfully imported and included in your submission if necessary. \n",
    "\n",
    "> **Note**: Once you have completed all of the code implementations, you need to finalize your work by exporting the iPython Notebook as an HTML document. Before exporting the notebook to html, all of the code cells need to have been run so that reviewers can see the final implementation and output. You can then export the notebook by using the menu above and navigating to  \\n\",\n",
    "    \"**File -> Download as -> HTML (.html)**. Include the finished document along with this notebook as your submission. \n",
    "\n",
    "In addition to implementing code, there is a writeup to complete. The writeup should be completed in a separate file, which can be either a markdown file or a pdf document. There is a [write up template](https://github.com/udacity/CarND-Traffic-Sign-Classifier-Project/blob/master/writeup_template.md) that can be used to guide the writing process. Completing the code template and writeup template will cover all of the [rubric points](https://review.udacity.com/#!/rubrics/481/view) for this project.\n",
    "\n",
    "The [rubric](https://review.udacity.com/#!/rubrics/481/view) contains \"Stand Out Suggestions\" for enhancing the project beyond the minimum requirements. The stand out suggestions are optional. If you decide to pursue the \"stand out suggestions\", you can include the code in this Ipython notebook and also discuss the results in the writeup file.\n",
    "\n",
    "\n",
    ">**Note:** Code and Markdown cells can be executed using the **Shift + Enter** keyboard shortcut. In addition, Markdown cells can be edited by typically double-clicking the cell to enter edit mode."
   ]
  },
  {
   "cell_type": "markdown",
   "metadata": {},
   "source": [
    "---\n",
    "## Step 0: Load The Data"
   ]
  },
  {
   "cell_type": "code",
   "execution_count": 1,
   "metadata": {},
   "outputs": [],
   "source": [
    "# Load pickled data\n",
    "import pickle\n",
    "\n",
    "# TODO: Fill this in based on where you saved the training and testing data\n",
    "\n",
    "training_file = 'train.p'\n",
    "validation_file = 'valid.p'\n",
    "testing_file = 'test.p'\n",
    "\n",
    "with open(training_file, mode='rb') as f:\n",
    "    train = pickle.load(f)\n",
    "with open(validation_file, mode='rb') as f:\n",
    "    valid = pickle.load(f)\n",
    "with open(testing_file, mode='rb') as f:\n",
    "    test = pickle.load(f)\n",
    "    \n",
    "X_train, y_train = train['features'], train['labels']\n",
    "X_valid, y_valid = valid['features'], valid['labels']\n",
    "X_test, y_test = test['features'], test['labels']"
   ]
  },
  {
   "cell_type": "markdown",
   "metadata": {},
   "source": [
    "---\n",
    "\n",
    "## Step 1: Dataset Summary & Exploration\n",
    "\n",
    "The pickled data is a dictionary with 4 key/value pairs:\n",
    "\n",
    "- `'features'` is a 4D array containing raw pixel data of the traffic sign images, (num examples, width, height, channels).\n",
    "- `'labels'` is a 1D array containing the label/class id of the traffic sign. The file `signnames.csv` contains id -> name mappings for each id.\n",
    "- `'sizes'` is a list containing tuples, (width, height) representing the original width and height the image.\n",
    "- `'coords'` is a list containing tuples, (x1, y1, x2, y2) representing coordinates of a bounding box around the sign in the image. **THESE COORDINATES ASSUME THE ORIGINAL IMAGE. THE PICKLED DATA CONTAINS RESIZED VERSIONS (32 by 32) OF THESE IMAGES**\n",
    "\n",
    "Complete the basic data summary below. Use python, numpy and/or pandas methods to calculate the data summary rather than hard coding the results. For example, the [pandas shape method](http://pandas.pydata.org/pandas-docs/stable/generated/pandas.DataFrame.shape.html) might be useful for calculating some of the summary results. "
   ]
  },
  {
   "cell_type": "markdown",
   "metadata": {},
   "source": [
    "### Provide a Basic Summary of the Data Set Using Python, Numpy and/or Pandas"
   ]
  },
  {
   "cell_type": "code",
   "execution_count": 2,
   "metadata": {},
   "outputs": [
    {
     "name": "stdout",
     "output_type": "stream",
     "text": [
      "Number of training examples = 34799\n",
      "Number of validation examples = 4410\n",
      "Number of testing examples = 12630\n",
      "Image data shape = (32, 32, 3)\n",
      "Number of classes = 43\n"
     ]
    }
   ],
   "source": [
    "import numpy as np\n",
    "\n",
    "### Replace each question mark with the appropriate value. \n",
    "### Use python, pandas or numpy methods rather than hard coding the results\n",
    "\n",
    "# TODO: Number of training examples\n",
    "n_train = X_train.shape[0]\n",
    "\n",
    "# TODO: Number of validation examples\n",
    "n_validation = X_valid.shape[0]\n",
    "\n",
    "# TODO: Number of testing examples.\n",
    "n_test = X_test.shape[0]\n",
    "\n",
    "# TODO: What's the shape of an traffic sign image?\n",
    "image_shape = X_train[0].shape\n",
    "\n",
    "# TODO: How many unique classes/labels there are in the dataset.\n",
    "classes, counts = np.unique(y_train, return_counts=True)\n",
    "n_classes = classes.size\n",
    "\n",
    "print(\"Number of training examples =\", n_train)\n",
    "print(\"Number of validation examples =\", n_validation)\n",
    "print(\"Number of testing examples =\", n_test)\n",
    "print(\"Image data shape =\", image_shape)\n",
    "print(\"Number of classes =\", n_classes)"
   ]
  },
  {
   "cell_type": "markdown",
   "metadata": {},
   "source": [
    "### Include an exploratory visualization of the dataset"
   ]
  },
  {
   "cell_type": "markdown",
   "metadata": {},
   "source": [
    "Visualize the German Traffic Signs Dataset using the pickled file(s). This is open ended, suggestions include: plotting traffic sign images, plotting the count of each sign, etc. \n",
    "\n",
    "The [Matplotlib](http://matplotlib.org/) [examples](http://matplotlib.org/examples/index.html) and [gallery](http://matplotlib.org/gallery.html) pages are a great resource for doing visualizations in Python.\n",
    "\n",
    "**NOTE:** It's recommended you start with something simple first. If you wish to do more, come back to it after you've completed the rest of the sections. It can be interesting to look at the distribution of classes in the training, validation and test set. Is the distribution the same? Are there more examples of some classes than others?"
   ]
  },
  {
   "cell_type": "code",
   "execution_count": 3,
   "metadata": {},
   "outputs": [
    {
     "name": "stdout",
     "output_type": "stream",
     "text": [
      "38\n"
     ]
    },
    {
     "data": {
      "image/png": "[encoded data removed]",
      "text/plain": [
       "<matplotlib.figure.Figure at 0x7ff708209470>"
      ]
     },
     "metadata": {},
     "output_type": "display_data"
    }
   ],
   "source": [
    "### Data exploration visualization code goes here.\n",
    "### Feel free to use as many code cells as needed.\n",
    "import matplotlib.pyplot as plt\n",
    "import random\n",
    "# Visualizations will be shown in the notebook.\n",
    "%matplotlib inline\n",
    "\n",
    "index = random.randint(0, len(X_train))\n",
    "image = X_train[index].squeeze()\n",
    "\n",
    "plt.figure(figsize=(1,1))\n",
    "plt.imshow(image)\n",
    "print(y_train[index])"
   ]
  },
  {
   "cell_type": "code",
   "execution_count": 4,
   "metadata": {},
   "outputs": [
    {
     "data": {
      "image/png": "[encoded data removed]",
      "text/plain": [
       "<matplotlib.figure.Figure at 0x7ff6d61c7da0>"
      ]
     },
     "metadata": {},
     "output_type": "display_data"
    }
   ],
   "source": [
    "import matplotlib.pyplot as plt\n",
    "\n",
    "plt.figure(figsize=(15, 5))  # width:20, height:3\n",
    "plt.bar(classes, counts, align='center', width=0.8, alpha=0.5)\n",
    "\n",
    "plt.xticks(classes, classes)\n",
    "plt.ylabel('Count')\n",
    "plt.xlabel('Classes')\n",
    " \n",
    "plt.show()"
   ]
  },
  {
   "cell_type": "markdown",
   "metadata": {},
   "source": [
    "----\n",
    "\n",
    "## Step 2: Design and Test a Model Architecture\n",
    "\n",
    "Design and implement a deep learning model that learns to recognize traffic signs. Train and test your model on the [German Traffic Sign Dataset](http://benchmark.ini.rub.de/?section=gtsrb&subsection=dataset).\n",
    "\n",
    "The LeNet-5 implementation shown in the [classroom](https://classroom.udacity.com/nanodegrees/nd013/parts/fbf77062-5703-404e-b60c-95b78b2f3f9e/modules/6df7ae49-c61c-4bb2-a23e-6527e69209ec/lessons/601ae704-1035-4287-8b11-e2c2716217ad/concepts/d4aca031-508f-4e0b-b493-e7b706120f81) at the end of the CNN lesson is a solid starting point. You'll have to change the number of classes and possibly the preprocessing, but aside from that it's plug and play! \n",
    "\n",
    "With the LeNet-5 solution from the lecture, you should expect a validation set accuracy of about 0.89. To meet specifications, the validation set accuracy will need to be at least 0.93. It is possible to get an even higher accuracy, but 0.93 is the minimum for a successful project submission. \n",
    "\n",
    "There are various aspects to consider when thinking about this problem:\n",
    "\n",
    "- Neural network architecture (is the network over or underfitting?)\n",
    "- Play around preprocessing techniques (normalization, rgb to grayscale, etc)\n",
    "- Number of examples per label (some have more than others).\n",
    "- Generate fake data.\n",
    "\n",
    "Here is an example of a [published baseline model on this problem](http://yann.lecun.com/exdb/publis/pdf/sermanet-ijcnn-11.pdf). It's not required to be familiar with the approach used in the paper but, it's good practice to try to read papers like these."
   ]
  },
  {
   "cell_type": "markdown",
   "metadata": {},
   "source": [
    "### Pre-process the Data Set (normalization, grayscale, etc.)"
   ]
  },
  {
   "cell_type": "markdown",
   "metadata": {},
   "source": [
    "Minimally, the image data should be normalized so that the data has mean zero and equal variance. For image data, `(pixel - 128)/ 128` is a quick way to approximately normalize the data and can be used in this project. \n",
    "\n",
    "Other pre-processing steps are optional. You can try different techniques to see if it improves performance. \n",
    "\n",
    "Use the code cell (or multiple code cells, if necessary) to implement the first step of your project."
   ]
  },
  {
   "cell_type": "code",
   "execution_count": 5,
   "metadata": {},
   "outputs": [],
   "source": [
    "use_grayscale = False\n",
    "\n",
    "# Grayscale image\n",
    "def img_list_to_grayscale(X):\n",
    "    X = np.average(X, axis=3)\n",
    "    #X = np.average(X, axis=3, weights=[0.299, 0.587, 0.114])\n",
    "    X = np.expand_dims(X, axis=3)\n",
    "    return X\n",
    "\n",
    "X_train_copy = None\n",
    "if use_grayscale:\n",
    "    global_color_channels = 1\n",
    "\n",
    "    X_train = img_list_to_grayscale(X_train)\n",
    "    X_valid = img_list_to_grayscale(X_valid)\n",
    "    X_test = img_list_to_grayscale(X_test)\n",
    "else:\n",
    "    global_color_channels = 3\n",
    "    X_train_copy = X_train.copy()\n",
    "    X_train_copy = img_list_to_grayscale(X_train_copy)\n",
    "    "
   ]
  },
  {
   "cell_type": "code",
   "execution_count": 6,
   "metadata": {},
   "outputs": [
    {
     "name": "stdout",
     "output_type": "stream",
     "text": [
      "38\n"
     ]
    },
    {
     "data": {
      "image/png": "[encoded data removed]",
      "text/plain": [
       "<matplotlib.figure.Figure at 0x7ff6d6036c88>"
      ]
     },
     "metadata": {},
     "output_type": "display_data"
    }
   ],
   "source": [
    "# Visualize grayscaled images\n",
    "if use_grayscale:\n",
    "    image = X_train[index].squeeze()\n",
    "\n",
    "    plt.figure(figsize=(1,1))\n",
    "    plt.imshow(image, cmap=\"gray\")\n",
    "    print(y_train[index])\n",
    "else:\n",
    "    image = X_train_copy[index].squeeze()\n",
    "\n",
    "    plt.figure(figsize=(1,1))\n",
    "    plt.imshow(image, cmap=\"gray\")\n",
    "    print(y_train[index])"
   ]
  },
  {
   "cell_type": "code",
   "execution_count": 7,
   "metadata": {},
   "outputs": [],
   "source": [
    "### Preprocess the data here. It is required to normalize the data. Other preprocessing steps could include \n",
    "### converting to grayscale, etc.\n",
    "### Feel free to use as many code cells as needed.\n",
    "from sklearn.utils import shuffle\n",
    "\n",
    "# normalize the data by demeaning (zero mean) and dividing by variance\n",
    "X_train = (X_train - X_train.mean()) / X_train.var()\n",
    "\n",
    "# shuffle the training data\n",
    "X_train, y_train = shuffle(X_train, y_train)\n"
   ]
  },
  {
   "cell_type": "markdown",
   "metadata": {},
   "source": [
    "### Model Architecture"
   ]
  },
  {
   "cell_type": "code",
   "execution_count": 8,
   "metadata": {},
   "outputs": [],
   "source": [
    "### Define your architecture here.\n",
    "### Feel free to use as many code cells as needed."
   ]
  },
  {
   "cell_type": "code",
   "execution_count": 9,
   "metadata": {},
   "outputs": [],
   "source": [
    "import tensorflow as tf\n",
    "\n",
    "EPOCHS = 100\n",
    "BATCH_SIZE = 256\n",
    "KEEP_PROBABILITY = 0.45\n",
    "use_dropout = True\n",
    "\n",
    "tf_device = '/gpu:0'"
   ]
  },
  {
   "cell_type": "code",
   "execution_count": 10,
   "metadata": {},
   "outputs": [],
   "source": [
    "from tensorflow.contrib.layers import flatten\n",
    "\n",
    "def LeNet(x, keep_prob):    \n",
    "    # Arguments used for tf.truncated_normal, randomly defines variables for the weights and biases for each layer\n",
    "    mu = 0\n",
    "    sigma = 0.1\n",
    "    \n",
    "    with tf.device(tf_device):\n",
    "        # TODO: Layer 1: Convolutional. Input = 32x32xcolor_channels. Output = 28x28x6.\n",
    "        stride = 1\n",
    "        conv_weights_1 = tf.Variable(tf.truncated_normal([5, 5, global_color_channels, 6], mean=mu, stddev=sigma))\n",
    "        conv_bias_1 = tf.Variable(tf.zeros(6))\n",
    "        conv_1 = tf.nn.conv2d(x, conv_weights_1, strides=[1, stride, stride, 1], padding='VALID')\n",
    "        conv_1 = tf.nn.bias_add(conv_1, conv_bias_1)\n",
    "\n",
    "        # TODO: Activation.\n",
    "        conv_1 = tf.nn.relu(conv_1)\n",
    "        #if use_dropout:\n",
    "            #conv_1 = tf.nn.dropout(conv_1, keep_prob)\n",
    "\n",
    "        # TODO: Pooling. Input = 28x28x6. Output = 14x14x6.\n",
    "        conv_1 = tf.nn.max_pool(conv_1, ksize=[1, 2, 2, 1], strides=[1, 2, 2, 1], padding='VALID')\n",
    "\n",
    "        # TODO: Layer 2: Convolutional. Output = 10x10x16.\n",
    "        stride = 1\n",
    "        conv_weights_2 = tf.Variable(tf.truncated_normal([5, 5, 6, 16], mean=mu, stddev=sigma))\n",
    "        conv_bias_2 = tf.Variable(tf.zeros(16))\n",
    "        conv_2 = tf.nn.conv2d(conv_1, conv_weights_2, strides=[1, stride, stride, 1], padding='VALID')\n",
    "        conv_2 = tf.nn.bias_add(conv_2, conv_bias_2)\n",
    "\n",
    "        # TODO: Activation.\n",
    "        conv_2 = tf.nn.relu(conv_2)\n",
    "        #if use_dropout:\n",
    "            #conv_2 = tf.nn.dropout(conv_2, keep_prob)\n",
    "\n",
    "        # TODO: Pooling. Input = 10x10x16. Output = 5x5x16.\n",
    "        conv_2 = tf.nn.max_pool(conv_2, ksize=[1, 2, 2, 1], strides=[1, 2, 2, 1], padding='VALID')\n",
    "\n",
    "        # TODO: Flatten. Input = 5x5x16. Output = 400.\n",
    "        fc_1 = flatten(conv_2)\n",
    "\n",
    "        # TODO: Layer 3: Fully Connected. Input = 400. Output = 120.\n",
    "        fc_weights_1 = tf.Variable(tf.truncated_normal([400, 120], mean=mu, stddev=sigma))\n",
    "        fc_bias_1 = tf.Variable(tf.zeros([120]))\n",
    "        fc_1 = tf.add(tf.matmul(fc_1, fc_weights_1), fc_bias_1)\n",
    "\n",
    "        # TODO: Activation.\n",
    "        fc_2 = tf.nn.relu(fc_1)\n",
    "        #if use_dropout:\n",
    "            #fc_2 = tf.nn.dropout(fc_2, keep_prob)\n",
    "\n",
    "        # TODO: Layer 4: Fully Connected. Input = 120. Output = 84.\n",
    "        fc_weights_2 = tf.Variable(tf.truncated_normal([120, 84], mean=mu, stddev=sigma))\n",
    "        fc_bias_2 = tf.Variable(tf.zeros([84]))\n",
    "        fc_2 = tf.add(tf.matmul(fc_2, fc_weights_2), fc_bias_2)\n",
    "\n",
    "        # TODO: Activation.\n",
    "        fc_3 = tf.nn.relu(fc_2)\n",
    "        if use_dropout:\n",
    "            fc_3 = tf.nn.dropout(fc_3, keep_prob)\n",
    "\n",
    "        # TODO: Layer 5: Fully Connected. Input = 84. Output = 43.\n",
    "        fc_weights_3 = tf.Variable(tf.truncated_normal([84, 43], mean=mu, stddev=sigma))\n",
    "        fc_bias_3 = tf.Variable(tf.zeros([43]))\n",
    "        logits = tf.add(tf.matmul(fc_3, fc_weights_3), fc_bias_3, name=\"logits\")\n",
    "    \n",
    "    return logits"
   ]
  },
  {
   "cell_type": "markdown",
   "metadata": {},
   "source": [
    "### Train, Validate and Test the Model"
   ]
  },
  {
   "cell_type": "markdown",
   "metadata": {},
   "source": [
    "A validation set can be used to assess how well the model is performing. A low accuracy on the training and validation\n",
    "sets imply underfitting. A high accuracy on the training set but low accuracy on the validation set implies overfitting."
   ]
  },
  {
   "cell_type": "code",
   "execution_count": 11,
   "metadata": {},
   "outputs": [],
   "source": [
    "### Train your model here.\n",
    "### Calculate and report the accuracy on the training and validation set."
   ]
  },
  {
   "cell_type": "code",
   "execution_count": 12,
   "metadata": {},
   "outputs": [],
   "source": [
    "with tf.device(tf_device):\n",
    "    x = tf.placeholder(tf.float32, (None, 32, 32, global_color_channels), name='x')\n",
    "    y = tf.placeholder(tf.int32, (None), name='y')\n",
    "    one_hot_y = tf.one_hot(y, 43, name='one_hot_y')\n",
    "    keep_prob = tf.placeholder(tf.float32, name='keep_prob')\n"
   ]
  },
  {
   "cell_type": "code",
   "execution_count": 13,
   "metadata": {},
   "outputs": [],
   "source": [
    "start_rate = 0.005\n",
    "\n",
    "with tf.device(tf_device):\n",
    "    global_step = tf.Variable(0, trainable=False)\n",
    "    l_rate = tf.train.exponential_decay(start_rate, global_step, 10, 0.285, staircase=True)\n",
    "    \n",
    "    #l_rate = start_rate\n",
    "\n",
    "    logits = LeNet(x, keep_prob)\n",
    "    cross_entropy = tf.nn.softmax_cross_entropy_with_logits(labels=one_hot_y, logits=logits)\n",
    "    loss_operation = tf.reduce_mean(cross_entropy)\n",
    "    optimizer = tf.train.AdamOptimizer(learning_rate=l_rate)\n",
    "    training_operation = optimizer.minimize(loss_operation)"
   ]
  },
  {
   "cell_type": "code",
   "execution_count": 14,
   "metadata": {},
   "outputs": [],
   "source": [
    "\n",
    "with tf.device(tf_device):\n",
    "    correct_prediction = tf.equal(tf.argmax(logits, 1), tf.argmax(one_hot_y, 1))\n",
    "    accuracy_operation = tf.reduce_mean(tf.cast(correct_prediction, tf.float32))\n",
    "    saver = tf.train.Saver()\n",
    "\n",
    "def evaluate(X_data, y_data, prob):\n",
    "    with tf.device(tf_device):\n",
    "        num_examples = len(X_data)\n",
    "        total_accuracy = 0\n",
    "        sess = tf.get_default_session()\n",
    "        for offset in range(0, num_examples, BATCH_SIZE):\n",
    "            batch_x, batch_y = X_data[offset:offset+BATCH_SIZE], y_data[offset:offset+BATCH_SIZE]\n",
    "            if use_dropout:\n",
    "                accuracy = sess.run(accuracy_operation, feed_dict={x: batch_x, y: batch_y, keep_prob: prob})\n",
    "            else:\n",
    "                accuracy = sess.run(accuracy_operation, feed_dict={x: batch_x, y: batch_y})\n",
    "            total_accuracy += (accuracy * len(batch_x))\n",
    "        return total_accuracy / num_examples"
   ]
  },
  {
   "cell_type": "code",
   "execution_count": 15,
   "metadata": {},
   "outputs": [
    {
     "name": "stdout",
     "output_type": "stream",
     "text": [
      "Training...\n",
      "\n",
      "EPOCH 1 ...\n",
      "Train Accuracy = 0.390\n",
      "Validation Accuracy = 0.313\n",
      "\n",
      "EPOCH 2 ...\n",
      "Train Accuracy = 0.756\n",
      "Validation Accuracy = 0.672\n",
      "\n",
      "EPOCH 3 ...\n",
      "Train Accuracy = 0.864\n",
      "Validation Accuracy = 0.753\n",
      "\n",
      "EPOCH 4 ...\n",
      "Train Accuracy = 0.899\n",
      "Validation Accuracy = 0.819\n",
      "\n",
      "EPOCH 5 ...\n",
      "Train Accuracy = 0.941\n",
      "Validation Accuracy = 0.835\n",
      "\n",
      "EPOCH 6 ...\n",
      "Train Accuracy = 0.955\n",
      "Validation Accuracy = 0.844\n",
      "\n",
      "EPOCH 7 ...\n",
      "Train Accuracy = 0.965\n",
      "Validation Accuracy = 0.866\n",
      "\n",
      "EPOCH 8 ...\n",
      "Train Accuracy = 0.972\n",
      "Validation Accuracy = 0.867\n",
      "\n",
      "EPOCH 9 ...\n",
      "Train Accuracy = 0.975\n",
      "Validation Accuracy = 0.851\n",
      "\n",
      "EPOCH 10 ...\n",
      "Train Accuracy = 0.978\n",
      "Validation Accuracy = 0.852\n",
      "\n",
      "EPOCH 11 ...\n",
      "Train Accuracy = 0.983\n",
      "Validation Accuracy = 0.864\n",
      "\n",
      "EPOCH 12 ...\n",
      "Train Accuracy = 0.986\n",
      "Validation Accuracy = 0.893\n",
      "\n",
      "EPOCH 13 ...\n",
      "Train Accuracy = 0.986\n",
      "Validation Accuracy = 0.882\n",
      "\n",
      "EPOCH 14 ...\n",
      "Train Accuracy = 0.990\n",
      "Validation Accuracy = 0.866\n",
      "\n",
      "EPOCH 15 ...\n",
      "Train Accuracy = 0.988\n",
      "Validation Accuracy = 0.877\n",
      "\n",
      "EPOCH 16 ...\n",
      "Train Accuracy = 0.989\n",
      "Validation Accuracy = 0.875\n",
      "\n",
      "EPOCH 17 ...\n",
      "Train Accuracy = 0.992\n",
      "Validation Accuracy = 0.889\n",
      "\n",
      "EPOCH 18 ...\n",
      "Train Accuracy = 0.992\n",
      "Validation Accuracy = 0.902\n",
      "\n",
      "EPOCH 19 ...\n",
      "Train Accuracy = 0.993\n",
      "Validation Accuracy = 0.888\n",
      "\n",
      "EPOCH 20 ...\n",
      "Train Accuracy = 0.991\n",
      "Validation Accuracy = 0.888\n",
      "\n",
      "EPOCH 21 ...\n",
      "Train Accuracy = 0.990\n",
      "Validation Accuracy = 0.878\n",
      "\n",
      "EPOCH 22 ...\n",
      "Train Accuracy = 0.995\n",
      "Validation Accuracy = 0.907\n",
      "\n",
      "EPOCH 23 ...\n",
      "Train Accuracy = 0.993\n",
      "Validation Accuracy = 0.902\n",
      "\n",
      "EPOCH 24 ...\n",
      "Train Accuracy = 0.996\n",
      "Validation Accuracy = 0.898\n",
      "\n",
      "EPOCH 25 ...\n",
      "Train Accuracy = 0.994\n",
      "Validation Accuracy = 0.901\n",
      "\n",
      "EPOCH 26 ...\n",
      "Train Accuracy = 0.996\n",
      "Validation Accuracy = 0.902\n",
      "\n",
      "EPOCH 27 ...\n",
      "Train Accuracy = 0.993\n",
      "Validation Accuracy = 0.905\n",
      "\n",
      "EPOCH 28 ...\n",
      "Train Accuracy = 0.994\n",
      "Validation Accuracy = 0.885\n",
      "\n",
      "EPOCH 29 ...\n",
      "Train Accuracy = 0.997\n",
      "Validation Accuracy = 0.910\n",
      "\n",
      "EPOCH 30 ...\n",
      "Train Accuracy = 0.994\n",
      "Validation Accuracy = 0.911\n",
      "\n",
      "EPOCH 31 ...\n",
      "Train Accuracy = 0.995\n",
      "Validation Accuracy = 0.905\n",
      "\n",
      "EPOCH 32 ...\n",
      "Train Accuracy = 0.996\n",
      "Validation Accuracy = 0.896\n",
      "\n",
      "EPOCH 33 ...\n",
      "Train Accuracy = 0.994\n",
      "Validation Accuracy = 0.928\n",
      "\n",
      "EPOCH 34 ...\n",
      "Train Accuracy = 0.996\n",
      "Validation Accuracy = 0.900\n",
      "\n",
      "EPOCH 35 ...\n",
      "Train Accuracy = 0.996\n",
      "Validation Accuracy = 0.920\n",
      "\n",
      "EPOCH 36 ...\n",
      "Train Accuracy = 0.997\n",
      "Validation Accuracy = 0.902\n",
      "\n",
      "EPOCH 37 ...\n",
      "Train Accuracy = 0.993\n",
      "Validation Accuracy = 0.905\n",
      "\n",
      "EPOCH 38 ...\n",
      "Train Accuracy = 0.997\n",
      "Validation Accuracy = 0.929\n",
      "\n",
      "EPOCH 39 ...\n",
      "Train Accuracy = 0.997\n",
      "Validation Accuracy = 0.919\n",
      "\n",
      "EPOCH 40 ...\n",
      "Train Accuracy = 0.995\n",
      "Validation Accuracy = 0.908\n",
      "\n",
      "EPOCH 41 ...\n",
      "Train Accuracy = 0.999\n",
      "Validation Accuracy = 0.915\n",
      "\n",
      "EPOCH 42 ...\n",
      "Train Accuracy = 0.995\n",
      "Validation Accuracy = 0.884\n",
      "\n",
      "EPOCH 43 ...\n",
      "Train Accuracy = 0.997\n",
      "Validation Accuracy = 0.910\n",
      "\n",
      "EPOCH 44 ...\n",
      "Train Accuracy = 0.996\n",
      "Validation Accuracy = 0.902\n",
      "\n",
      "EPOCH 45 ...\n",
      "Train Accuracy = 0.997\n",
      "Validation Accuracy = 0.916\n",
      "\n",
      "EPOCH 46 ...\n",
      "Train Accuracy = 0.996\n",
      "Validation Accuracy = 0.924\n",
      "\n",
      "EPOCH 47 ...\n",
      "Train Accuracy = 0.998\n",
      "Validation Accuracy = 0.924\n",
      "\n",
      "EPOCH 48 ...\n",
      "Train Accuracy = 0.998\n",
      "Validation Accuracy = 0.917\n",
      "\n",
      "EPOCH 49 ...\n",
      "Train Accuracy = 0.998\n",
      "Validation Accuracy = 0.923\n",
      "\n",
      "EPOCH 50 ...\n",
      "Train Accuracy = 0.997\n",
      "Validation Accuracy = 0.906\n",
      "\n",
      "EPOCH 51 ...\n",
      "Train Accuracy = 0.998\n",
      "Validation Accuracy = 0.923\n",
      "\n",
      "EPOCH 52 ...\n",
      "Train Accuracy = 0.998\n",
      "Validation Accuracy = 0.917\n",
      "\n",
      "EPOCH 53 ...\n",
      "Train Accuracy = 0.996\n",
      "Validation Accuracy = 0.901\n",
      "\n",
      "EPOCH 54 ...\n",
      "Train Accuracy = 0.997\n",
      "Validation Accuracy = 0.910\n",
      "\n",
      "EPOCH 55 ...\n",
      "Train Accuracy = 0.992\n",
      "Validation Accuracy = 0.902\n",
      "\n",
      "EPOCH 56 ...\n",
      "Train Accuracy = 0.999\n",
      "Validation Accuracy = 0.912\n",
      "\n",
      "EPOCH 57 ...\n",
      "Train Accuracy = 0.998\n",
      "Validation Accuracy = 0.925\n",
      "\n",
      "EPOCH 58 ...\n",
      "Train Accuracy = 0.999\n",
      "Validation Accuracy = 0.923\n",
      "\n",
      "EPOCH 59 ...\n",
      "Train Accuracy = 0.996\n",
      "Validation Accuracy = 0.930\n",
      "\n",
      "EPOCH 60 ...\n",
      "Train Accuracy = 0.998\n",
      "Validation Accuracy = 0.904\n",
      "\n",
      "EPOCH 61 ...\n",
      "Train Accuracy = 0.999\n",
      "Validation Accuracy = 0.924\n",
      "\n",
      "EPOCH 62 ...\n",
      "Train Accuracy = 0.998\n",
      "Validation Accuracy = 0.919\n",
      "\n",
      "EPOCH 63 ...\n",
      "Train Accuracy = 0.995\n",
      "Validation Accuracy = 0.917\n",
      "\n",
      "EPOCH 64 ...\n",
      "Train Accuracy = 0.998\n",
      "Validation Accuracy = 0.887\n",
      "\n",
      "EPOCH 65 ...\n",
      "Train Accuracy = 0.998\n",
      "Validation Accuracy = 0.919\n",
      "\n",
      "EPOCH 66 ...\n",
      "Train Accuracy = 0.997\n",
      "Validation Accuracy = 0.922\n",
      "\n",
      "EPOCH 67 ...\n",
      "Train Accuracy = 0.998\n",
      "Validation Accuracy = 0.922\n",
      "\n",
      "EPOCH 68 ...\n",
      "Train Accuracy = 0.994\n",
      "Validation Accuracy = 0.930\n",
      "\n",
      "EPOCH 69 ...\n",
      "Train Accuracy = 0.999\n",
      "Validation Accuracy = 0.926\n",
      "\n",
      "EPOCH 70 ...\n",
      "Train Accuracy = 0.998\n",
      "Validation Accuracy = 0.937\n",
      "\n",
      "EPOCH 71 ...\n",
      "Train Accuracy = 0.999\n",
      "Validation Accuracy = 0.921\n",
      "\n",
      "EPOCH 72 ...\n",
      "Train Accuracy = 0.998\n",
      "Validation Accuracy = 0.935\n",
      "\n",
      "EPOCH 73 ...\n",
      "Train Accuracy = 1.000\n",
      "Validation Accuracy = 0.931\n",
      "\n",
      "EPOCH 74 ...\n",
      "Train Accuracy = 0.999\n",
      "Validation Accuracy = 0.931\n",
      "\n",
      "EPOCH 75 ...\n",
      "Train Accuracy = 0.999\n",
      "Validation Accuracy = 0.926\n",
      "\n",
      "EPOCH 76 ...\n",
      "Train Accuracy = 1.000\n",
      "Validation Accuracy = 0.928\n",
      "\n",
      "EPOCH 77 ...\n",
      "Train Accuracy = 0.998\n",
      "Validation Accuracy = 0.927\n",
      "\n",
      "EPOCH 78 ...\n",
      "Train Accuracy = 0.998\n",
      "Validation Accuracy = 0.930\n",
      "\n",
      "EPOCH 79 ...\n",
      "Train Accuracy = 0.998\n",
      "Validation Accuracy = 0.917\n",
      "\n",
      "EPOCH 80 ...\n",
      "Train Accuracy = 0.997\n",
      "Validation Accuracy = 0.927\n",
      "\n",
      "EPOCH 81 ...\n",
      "Train Accuracy = 0.999\n",
      "Validation Accuracy = 0.934\n",
      "\n",
      "EPOCH 82 ...\n",
      "Train Accuracy = 0.999\n",
      "Validation Accuracy = 0.936\n",
      "\n",
      "EPOCH 83 ...\n",
      "Train Accuracy = 0.999\n",
      "Validation Accuracy = 0.934\n",
      "\n",
      "EPOCH 84 ...\n",
      "Train Accuracy = 0.998\n",
      "Validation Accuracy = 0.919\n",
      "\n",
      "EPOCH 85 ...\n",
      "Train Accuracy = 0.999\n",
      "Validation Accuracy = 0.943\n",
      "\n",
      "EPOCH 86 ...\n",
      "Train Accuracy = 0.998\n",
      "Validation Accuracy = 0.927\n",
      "\n",
      "EPOCH 87 ...\n",
      "Train Accuracy = 0.998\n",
      "Validation Accuracy = 0.919\n",
      "\n",
      "EPOCH 88 ...\n",
      "Train Accuracy = 0.999\n",
      "Validation Accuracy = 0.911\n",
      "\n",
      "EPOCH 89 ...\n",
      "Train Accuracy = 0.999\n",
      "Validation Accuracy = 0.924\n",
      "\n",
      "EPOCH 90 ...\n",
      "Train Accuracy = 0.998\n",
      "Validation Accuracy = 0.921\n",
      "\n",
      "EPOCH 91 ...\n",
      "Train Accuracy = 0.999\n",
      "Validation Accuracy = 0.929\n",
      "\n",
      "EPOCH 92 ...\n",
      "Train Accuracy = 0.996\n",
      "Validation Accuracy = 0.898\n",
      "\n",
      "EPOCH 93 ...\n",
      "Train Accuracy = 0.998\n",
      "Validation Accuracy = 0.927\n",
      "\n",
      "EPOCH 94 ...\n",
      "Train Accuracy = 0.999\n",
      "Validation Accuracy = 0.927\n",
      "\n",
      "EPOCH 95 ...\n",
      "Train Accuracy = 0.997\n",
      "Validation Accuracy = 0.935\n",
      "\n",
      "EPOCH 96 ...\n",
      "Train Accuracy = 0.997\n",
      "Validation Accuracy = 0.933\n",
      "\n",
      "EPOCH 97 ...\n",
      "Train Accuracy = 0.998\n",
      "Validation Accuracy = 0.928\n",
      "\n",
      "EPOCH 98 ...\n",
      "Train Accuracy = 0.999\n",
      "Validation Accuracy = 0.928\n",
      "\n",
      "EPOCH 99 ...\n",
      "Train Accuracy = 0.996\n",
      "Validation Accuracy = 0.926\n",
      "\n",
      "EPOCH 100 ...\n",
      "Train Accuracy = 0.998\n",
      "Validation Accuracy = 0.930\n",
      "\n",
      "Model saved\n"
     ]
    }
   ],
   "source": [
    "if tf_device == '/gpu:0':\n",
    "    config = tf.ConfigProto(allow_soft_placement=True)\n",
    "    config.gpu_options.allow_growth = True\n",
    "else:\n",
    "    config = tf.ConfigProto()\n",
    "\n",
    "#with tf.Session() as sess:\n",
    "with tf.Session(config=config) as sess:\n",
    "    sess.run(tf.global_variables_initializer())\n",
    "    num_examples = len(X_train)\n",
    "    \n",
    "    print(\"Training...\")\n",
    "    print()\n",
    "    for i in range(EPOCHS):\n",
    "        X_train, y_train = shuffle(X_train, y_train)\n",
    "        for offset in range(0, num_examples, BATCH_SIZE):\n",
    "            end = offset + BATCH_SIZE\n",
    "            batch_x, batch_y = X_train[offset:end], y_train[offset:end]\n",
    "            if use_dropout:\n",
    "                sess.run(training_operation, feed_dict={x: batch_x, y: batch_y, keep_prob: KEEP_PROBABILITY})\n",
    "            else:\n",
    "                sess.run(training_operation, feed_dict={x: batch_x, y: batch_y})\n",
    "            \n",
    "        train_accuracy = evaluate(X_train, y_train, 1.0)\n",
    "        valid_accuracy = evaluate(X_valid, y_valid, 1.0)\n",
    "        print(\"EPOCH {} ...\".format(i+1))\n",
    "        print(\"Train Accuracy = {:.3f}\".format(train_accuracy))\n",
    "        print(\"Validation Accuracy = {:.3f}\".format(valid_accuracy))\n",
    "        print()\n",
    "        \n",
    "    saver.save(sess, './traffic-sign-lenet')\n",
    "    print(\"Model saved\")"
   ]
  },
  {
   "cell_type": "code",
   "execution_count": 16,
   "metadata": {},
   "outputs": [],
   "source": [
    "### Once a final model architecture is selected, \n",
    "### the accuracy on the test set should be calculated and reported as well.\n",
    "### Feel free to use as many code cells as needed."
   ]
  },
  {
   "cell_type": "code",
   "execution_count": 17,
   "metadata": {},
   "outputs": [
    {
     "name": "stdout",
     "output_type": "stream",
     "text": [
      "Test Accuracy = 0.908\n"
     ]
    }
   ],
   "source": [
    "if tf_device == '/gpu:0':\n",
    "    config = tf.ConfigProto(allow_soft_placement=True)\n",
    "    config.gpu_options.allow_growth = True\n",
    "else:\n",
    "    config = tf.ConfigProto()\n",
    "\n",
    "with tf.Session(config=config) as sess:\n",
    "    saver.restore(sess, tf.train.latest_checkpoint('.'))\n",
    "\n",
    "    test_accuracy = evaluate(X_test, y_test, 1.0)\n",
    "    print(\"Test Accuracy = {:.3f}\".format(test_accuracy))"
   ]
  },
  {
   "cell_type": "markdown",
   "metadata": {},
   "source": [
    "---\n",
    "\n",
    "## Step 3: Test a Model on New Images\n",
    "\n",
    "To give yourself more insight into how your model is working, download at least five pictures of German traffic signs from the web and use your model to predict the traffic sign type.\n",
    "\n",
    "You may find `signnames.csv` useful as it contains mappings from the class id (integer) to the actual sign name."
   ]
  },
  {
   "cell_type": "markdown",
   "metadata": {},
   "source": [
    "### Load and Output the Images"
   ]
  },
  {
   "cell_type": "code",
   "execution_count": 1,
   "metadata": {},
   "outputs": [],
   "source": [
    "### Load the images and plot them here.\n",
    "### Feel free to use as many code cells as needed."
   ]
  },
  {
   "cell_type": "code",
   "execution_count": 2,
   "metadata": {},
   "outputs": [
    {
     "name": "stdout",
     "output_type": "stream",
     "text": [
      "2\n",
      "4\n",
      "3\n",
      "1\n",
      "0\n",
      "(5, 32, 32, 3)\n",
      "(5, 43)\n"
     ]
    },
    {
     "data": {
      "image/png": "[encoded data removed]",
      "text/plain": [
       "<matplotlib.figure.Figure at 0x7f7bcbe43b00>"
      ]
     },
     "metadata": {},
     "output_type": "display_data"
    },
    {
     "data": {
      "image/png": "[encoded data removed]",
      "text/plain": [
       "<matplotlib.figure.Figure at 0x7f7bc9dcf400>"
      ]
     },
     "metadata": {},
     "output_type": "display_data"
    },
    {
     "data": {
      "image/png": "[encoded data removed]",
      "text/plain": [
       "<matplotlib.figure.Figure at 0x7f7c0990d0b8>"
      ]
     },
     "metadata": {},
     "output_type": "display_data"
    },
    {
     "data": {
      "image/png": "[encoded data removed]",
      "text/plain": [
       "<matplotlib.figure.Figure at 0x7f7bc9d9dda0>"
      ]
     },
     "metadata": {},
     "output_type": "display_data"
    },
    {
     "data": {
      "image/png": "[encoded data removed]",
      "text/plain": [
       "<matplotlib.figure.Figure at 0x7f7bc9cbf7b8>"
      ]
     },
     "metadata": {},
     "output_type": "display_data"
    }
   ],
   "source": [
    "import os\n",
    "import matplotlib.pyplot as plt\n",
    "from PIL import Image\n",
    "import numpy as np\n",
    "import re\n",
    "\n",
    "%matplotlib inline\n",
    "\n",
    "X_test_new = [[], [], [], [], []]\n",
    "y_test_new = []\n",
    "folder_path = './test_images'\n",
    "\n",
    "for name in os.listdir(folder_path):\n",
    "    if 'test' not in name:\n",
    "        continue\n",
    "        \n",
    "    im = Image.open(folder_path+'/'+name)\n",
    "    resized_im = im.resize((32, 32), 1)\n",
    "    im = np.asarray(resized_im)\n",
    "    im_no_aplha = im[:,:,:3]\n",
    "    \n",
    "    image_index = [int(c) for c in re.split('_|\\.', name) if c.isdigit()][0]\n",
    "    X_test_new[image_index] = im_no_aplha\n",
    "    \n",
    "    print (image_index)\n",
    "    \n",
    "    \n",
    "    image = im_no_aplha.squeeze()\n",
    "    plt.figure(figsize=(1,1))\n",
    "    plt.imshow(image)\n",
    "\n",
    "X_test_new = np.asarray(X_test_new)\n",
    "y_test_new = np.zeros((X_test_new.shape[0], 43))\n",
    "\n",
    "X_test_new = (X_test_new - X_test_new.mean()) / X_test_new.var()\n",
    "print (X_test_new.shape)\n",
    "print (y_test_new.shape)\n",
    "    "
   ]
  },
  {
   "cell_type": "markdown",
   "metadata": {},
   "source": [
    "### Predict the Sign Type for Each Image"
   ]
  },
  {
   "cell_type": "code",
   "execution_count": 3,
   "metadata": {},
   "outputs": [],
   "source": [
    "### Run the predictions here and use the model to output the prediction for each image.\n",
    "### Make sure to pre-process the images with the same pre-processing pipeline used earlier.\n",
    "### Feel free to use as many code cells as needed."
   ]
  },
  {
   "cell_type": "code",
   "execution_count": 4,
   "metadata": {},
   "outputs": [
    {
     "name": "stdout",
     "output_type": "stream",
     "text": [
      "[33 13 10  8 38]\n"
     ]
    }
   ],
   "source": [
    "import tensorflow as tf\n",
    "\n",
    "global_color_channels = 3\n",
    "\n",
    "tf_device = '/gpu:0'    \n",
    "if tf_device == '/gpu:0':\n",
    "    config = tf.ConfigProto(allow_soft_placement=True)\n",
    "    config.gpu_options.allow_growth = True\n",
    "else:\n",
    "    config = tf.ConfigProto()\n",
    "\n",
    "with tf.Session(config=config) as sess:\n",
    "    with tf.device(tf_device):\n",
    "        saver = tf.train.import_meta_graph('./traffic-sign-lenet.meta')\n",
    "        #saver.restore(sess, tf.train.latest_checkpoint('.'))\n",
    "        saver.restore(sess, './traffic-sign-lenet')\n",
    "    \n",
    "        batch_x, batch_y = X_test_new, y_test_new\n",
    "        \n",
    "        graph = tf.get_default_graph()\n",
    "        logits = graph.get_tensor_by_name(\"logits:0\")\n",
    "        prediction_operation = tf.argmax(logits, 1)\n",
    "        \n",
    "        x = graph.get_tensor_by_name(\"x:0\")\n",
    "        y = graph.get_tensor_by_name(\"y:0\")\n",
    "        keep_prob = graph.get_tensor_by_name(\"keep_prob:0\")\n",
    "        \n",
    "        full_predictions = sess.run(tf.nn.softmax(logits), feed_dict={x: X_test_new, y: y_test_new, keep_prob: 1.0})\n",
    "        predictions = sess.run(prediction_operation, feed_dict={x: X_test_new, y: y_test_new, keep_prob: 1.0})\n",
    "    \n",
    "\n",
    "    print (predictions)"
   ]
  },
  {
   "cell_type": "markdown",
   "metadata": {},
   "source": [
    "### Analyze Performance"
   ]
  },
  {
   "cell_type": "code",
   "execution_count": 5,
   "metadata": {},
   "outputs": [],
   "source": [
    "### Calculate the accuracy for these 5 new images. \n",
    "### For example, if the model predicted 1 out of 5 signs correctly, it's 20% accurate on these new images."
   ]
  },
  {
   "cell_type": "code",
   "execution_count": 6,
   "metadata": {},
   "outputs": [
    {
     "name": "stdout",
     "output_type": "stream",
     "text": [
      "New Test Accuracy = 60%\n"
     ]
    }
   ],
   "source": [
    "y_test_new_label = [33, 13, 14, 1, 38]\n",
    "y_test_new_label = np.asarray(y_test_new_label)\n",
    "\n",
    "accuracy = np.sum(y_test_new_label == predictions)\n",
    "accuracy = accuracy / len(y_test_new_label)\n",
    "\n",
    "print(\"New Test Accuracy = {:.0f}%\".format(accuracy * 100))"
   ]
  },
  {
   "cell_type": "markdown",
   "metadata": {},
   "source": [
    "### Output Top 5 Softmax Probabilities For Each Image Found on the Web"
   ]
  },
  {
   "cell_type": "markdown",
   "metadata": {},
   "source": [
    "For each of the new images, print out the model's softmax probabilities to show the **certainty** of the model's predictions (limit the output to the top 5 probabilities for each image). [`tf.nn.top_k`](https://www.tensorflow.org/versions/r0.12/api_docs/python/nn.html#top_k) could prove helpful here. \n",
    "\n",
    "The example below demonstrates how tf.nn.top_k can be used to find the top k predictions for each image.\n",
    "\n",
    "`tf.nn.top_k` will return the values and indices (class ids) of the top k predictions. So if k=3, for each sign, it'll return the 3 largest probabilities (out of a possible 43) and the correspoding class ids.\n",
    "\n",
    "Take this numpy array as an example. The values in the array represent predictions. The array contains softmax probabilities for five candidate images with six possible classes. `tf.nn.top_k` is used to choose the three classes with the highest probability:\n",
    "\n",
    "```\n",
    "# (5, 6) array\n",
    "a = np.array([[ 0.24879643,  0.07032244,  0.12641572,  0.34763842,  0.07893497,\n",
    "         0.12789202],\n",
    "       [ 0.28086119,  0.27569815,  0.08594638,  0.0178669 ,  0.18063401,\n",
    "         0.15899337],\n",
    "       [ 0.26076848,  0.23664738,  0.08020603,  0.07001922,  0.1134371 ,\n",
    "         0.23892179],\n",
    "       [ 0.11943333,  0.29198961,  0.02605103,  0.26234032,  0.1351348 ,\n",
    "         0.16505091],\n",
    "       [ 0.09561176,  0.34396535,  0.0643941 ,  0.16240774,  0.24206137,\n",
    "         0.09155967]])\n",
    "```\n",
    "\n",
    "Running it through `sess.run(tf.nn.top_k(tf.constant(a), k=3))` produces:\n",
    "\n",
    "```\n",
    "TopKV2(values=array([[ 0.34763842,  0.24879643,  0.12789202],\n",
    "       [ 0.28086119,  0.27569815,  0.18063401],\n",
    "       [ 0.26076848,  0.23892179,  0.23664738],\n",
    "       [ 0.29198961,  0.26234032,  0.16505091],\n",
    "       [ 0.34396535,  0.24206137,  0.16240774]]), indices=array([[3, 0, 5],\n",
    "       [0, 1, 4],\n",
    "       [0, 5, 1],\n",
    "       [1, 3, 5],\n",
    "       [1, 4, 3]], dtype=int32))\n",
    "```\n",
    "\n",
    "Looking just at the first row we get `[ 0.34763842,  0.24879643,  0.12789202]`, you can confirm these are the 3 largest probabilities in `a`. You'll also notice `[3, 0, 5]` are the corresponding indices."
   ]
  },
  {
   "cell_type": "code",
   "execution_count": 7,
   "metadata": {},
   "outputs": [],
   "source": [
    "### Print out the top five softmax probabilities for the predictions on the German traffic sign images found on the web. \n",
    "### Feel free to use as many code cells as needed."
   ]
  },
  {
   "cell_type": "code",
   "execution_count": 8,
   "metadata": {},
   "outputs": [
    {
     "name": "stdout",
     "output_type": "stream",
     "text": [
      "TopKV2(values=array([[  1.00000000e+00,   1.95154670e-09,   1.54427009e-11,\n",
      "          2.98352583e-14,   2.55211044e-14],\n",
      "       [  1.00000000e+00,   4.27663547e-12,   5.42575350e-18,\n",
      "          2.51664144e-20,   1.64313441e-21],\n",
      "       [  9.99999762e-01,   2.43380953e-07,   4.57972367e-26,\n",
      "          6.56296980e-29,   5.57223405e-30],\n",
      "       [  9.21692669e-01,   1.86087172e-02,   1.69253573e-02,\n",
      "          1.26983831e-02,   1.24375122e-02],\n",
      "       [  1.00000000e+00,   0.00000000e+00,   0.00000000e+00,\n",
      "          0.00000000e+00,   0.00000000e+00]], dtype=float32), indices=array([[33, 35, 30, 34,  5],\n",
      "       [13, 12, 14,  1,  2],\n",
      "       [10, 12,  5,  3, 25],\n",
      "       [ 8,  0, 16,  3,  7],\n",
      "       [38,  0,  1,  2,  3]], dtype=int32))\n"
     ]
    }
   ],
   "source": [
    "with tf.Session(config=config) as sess:\n",
    "    with tf.device(tf_device):\n",
    "        top5 = tf.nn.top_k(full_predictions, k=5)\n",
    "        res = sess.run(top5)\n",
    "\n",
    "    print (res)"
   ]
  },
  {
   "cell_type": "markdown",
   "metadata": {},
   "source": [
    "### Project Writeup\n",
    "\n",
    "Once you have completed the code implementation, document your results in a project writeup using this [template](https://github.com/udacity/CarND-Traffic-Sign-Classifier-Project/blob/master/writeup_template.md) as a guide. The writeup can be in a markdown or pdf file. "
   ]
  },
  {
   "cell_type": "markdown",
   "metadata": {},
   "source": [
    "> **Note**: Once you have completed all of the code implementations and successfully answered each question above, you may finalize your work by exporting the iPython Notebook as an HTML document. You can do this by using the menu above and navigating to  \\n\",\n",
    "    \"**File -> Download as -> HTML (.html)**. Include the finished document along with this notebook as your submission."
   ]
  },
  {
   "cell_type": "markdown",
   "metadata": {},
   "source": [
    "---\n",
    "\n",
    "## Step 4 (Optional): Visualize the Neural Network's State with Test Images\n",
    "\n",
    " This Section is not required to complete but acts as an additional excersise for understaning the output of a neural network's weights. While neural networks can be a great learning device they are often referred to as a black box. We can understand what the weights of a neural network look like better by plotting their feature maps. After successfully training your neural network you can see what it's feature maps look like by plotting the output of the network's weight layers in response to a test stimuli image. From these plotted feature maps, it's possible to see what characteristics of an image the network finds interesting. For a sign, maybe the inner network feature maps react with high activation to the sign's boundary outline or to the contrast in the sign's painted symbol.\n",
    "\n",
    " Provided for you below is the function code that allows you to get the visualization output of any tensorflow weight layer you want. The inputs to the function should be a stimuli image, one used during training or a new one you provided, and then the tensorflow variable name that represents the layer's state during the training process, for instance if you wanted to see what the [LeNet lab's](https://classroom.udacity.com/nanodegrees/nd013/parts/fbf77062-5703-404e-b60c-95b78b2f3f9e/modules/6df7ae49-c61c-4bb2-a23e-6527e69209ec/lessons/601ae704-1035-4287-8b11-e2c2716217ad/concepts/d4aca031-508f-4e0b-b493-e7b706120f81) feature maps looked like for it's second convolutional layer you could enter conv2 as the tf_activation variable.\n",
    "\n",
    "For an example of what feature map outputs look like, check out NVIDIA's results in their paper [End-to-End Deep Learning for Self-Driving Cars](https://devblogs.nvidia.com/parallelforall/deep-learning-self-driving-cars/) in the section Visualization of internal CNN State. NVIDIA was able to show that their network's inner weights had high activations to road boundary lines by comparing feature maps from an image with a clear path to one without. Try experimenting with a similar test to show that your trained network's weights are looking for interesting features, whether it's looking at differences in feature maps from images with or without a sign, or even what feature maps look like in a trained network vs a completely untrained one on the same sign image.\n",
    "\n",
    "<figure>\n",
    " <img src=\"visualize_cnn.png\" width=\"380\" alt=\"Combined Image\" />\n",
    " <figcaption>\n",
    " <p></p> \n",
    " <p style=\"text-align: center;\"> Your output should look something like this (above)</p> \n",
    " </figcaption>\n",
    "</figure>\n",
    " <p></p> \n"
   ]
  },
  {
   "cell_type": "code",
   "execution_count": null,
   "metadata": {
    "collapsed": true
   },
   "outputs": [],
   "source": [
    "### Visualize your network's feature maps here.\n",
    "### Feel free to use as many code cells as needed.\n",
    "\n",
    "# image_input: the test image being fed into the network to produce the feature maps\n",
    "# tf_activation: should be a tf variable name used during your training procedure that represents the calculated state of a specific weight layer\n",
    "# activation_min/max: can be used to view the activation contrast in more detail, by default matplot sets min and max to the actual min and max values of the output\n",
    "# plt_num: used to plot out multiple different weight feature map sets on the same block, just extend the plt number for each new feature map entry\n",
    "\n",
    "def outputFeatureMap(image_input, tf_activation, activation_min=-1, activation_max=-1 ,plt_num=1):\n",
    "    # Here make sure to preprocess your image_input in a way your network expects\n",
    "    # with size, normalization, ect if needed\n",
    "    # image_input =\n",
    "    # Note: x should be the same name as your network's tensorflow data placeholder variable\n",
    "    # If you get an error tf_activation is not defined it may be having trouble accessing the variable from inside a function\n",
    "    activation = tf_activation.eval(session=sess,feed_dict={x : image_input})\n",
    "    featuremaps = activation.shape[3]\n",
    "    plt.figure(plt_num, figsize=(15,15))\n",
    "    for featuremap in range(featuremaps):\n",
    "        plt.subplot(6,8, featuremap+1) # sets the number of feature maps to show on each row and column\n",
    "        plt.title('FeatureMap ' + str(featuremap)) # displays the feature map number\n",
    "        if activation_min != -1 & activation_max != -1:\n",
    "            plt.imshow(activation[0,:,:, featuremap], interpolation=\"nearest\", vmin =activation_min, vmax=activation_max, cmap=\"gray\")\n",
    "        elif activation_max != -1:\n",
    "            plt.imshow(activation[0,:,:, featuremap], interpolation=\"nearest\", vmax=activation_max, cmap=\"gray\")\n",
    "        elif activation_min !=-1:\n",
    "            plt.imshow(activation[0,:,:, featuremap], interpolation=\"nearest\", vmin=activation_min, cmap=\"gray\")\n",
    "        else:\n",
    "            plt.imshow(activation[0,:,:, featuremap], interpolation=\"nearest\", cmap=\"gray\")"
   ]
  }
 ],
 "metadata": {
  "anaconda-cloud": {},
  "kernelspec": {
   "display_name": "Python 3",
   "language": "python",
   "name": "python3"
  },
  "language_info": {
   "codemirror_mode": {
    "name": "ipython",
    "version": 3
   },
   "file_extension": ".py",
   "mimetype": "text/x-python",
   "name": "python",
   "nbconvert_exporter": "python",
   "pygments_lexer": "ipython3",
   "version": "3.5.2"
  },
  "widgets": {
   "state": {},
   "version": "1.1.2"
  }
 },
 "nbformat": 4,
 "nbformat_minor": 1
}
